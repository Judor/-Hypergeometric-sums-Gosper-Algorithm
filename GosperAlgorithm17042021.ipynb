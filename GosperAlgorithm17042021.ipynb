{
 "cells": [
  {
   "cell_type": "markdown",
   "id": "passing-pepper",
   "metadata": {},
   "source": [
    "## Gosper"
   ]
  },
  {
   "cell_type": "code",
   "execution_count": 1,
   "id": "falling-projector",
   "metadata": {},
   "outputs": [
    {
     "data": {
      "text/plain": [
       "n"
      ]
     },
     "execution_count": 1,
     "metadata": {},
     "output_type": "execute_result"
    }
   ],
   "source": [
    "var('n')"
   ]
  },
  {
   "cell_type": "code",
   "execution_count": 2,
   "id": "labeled-edwards",
   "metadata": {},
   "outputs": [
    {
     "data": {
      "text/plain": [
       "h"
      ]
     },
     "execution_count": 2,
     "metadata": {},
     "output_type": "execute_result"
    }
   ],
   "source": [
    "var('h')"
   ]
  },
  {
   "cell_type": "code",
   "execution_count": 3,
   "id": "molecular-helen",
   "metadata": {},
   "outputs": [],
   "source": [
    "Qn.<n> = PolynomialRing(QQ)"
   ]
  },
  {
   "cell_type": "code",
   "execution_count": 4,
   "id": "respective-scotland",
   "metadata": {},
   "outputs": [],
   "source": [
    "Qh.<h> = PolynomialRing(QQ)"
   ]
  },
  {
   "cell_type": "code",
   "execution_count": 5,
   "id": "mobile-violence",
   "metadata": {},
   "outputs": [],
   "source": [
    "Qhn.<n> = PolynomialRing(Qh)"
   ]
  },
  {
   "cell_type": "code",
   "execution_count": 6,
   "id": "peaceful-orange",
   "metadata": {},
   "outputs": [],
   "source": [
    "#### t = binomial(2*n,n)"
   ]
  },
  {
   "cell_type": "code",
   "execution_count": 7,
   "id": "tired-sheriff",
   "metadata": {},
   "outputs": [],
   "source": [
    "#### r = t(n+1)/t(n)"
   ]
  },
  {
   "cell_type": "markdown",
   "id": "becoming-broadcast",
   "metadata": {},
   "source": [
    "### On crée f et g à partir de r"
   ]
  },
  {
   "cell_type": "code",
   "execution_count": 8,
   "id": "editorial-express",
   "metadata": {},
   "outputs": [],
   "source": [
    "def G1(t):\n",
    "    r=t(n+1)/t(n)"
   ]
  },
  {
   "cell_type": "code",
   "execution_count": 9,
   "id": "expressed-embassy",
   "metadata": {},
   "outputs": [],
   "source": [
    "def G2(r) :\n",
    "    f = r.nominator()\n",
    "    g = r.denominator()\n",
    "    recG2(f,g)"
   ]
  },
  {
   "cell_type": "code",
   "execution_count": 10,
   "id": "scientific-underground",
   "metadata": {},
   "outputs": [],
   "source": [
    "def recG2(f,g) :\n",
    "    f=Qhn(f)\n",
    "    g=Qhn(g)\n",
    "    c=1\n",
    "    RacinesEntieres=[0]\n",
    "    while (RacinesEntieres!= []) :\n",
    "        R=f.resultant(g(n+h))\n",
    "        V=R.roots()\n",
    "        RacinesRes=[v[0] for v in V]\n",
    "        RacinesEntieres = []\n",
    "        for i in RacinesRes :\n",
    "            if (i.is_integer())&(i>=0) :\n",
    "                RacinesEntieres.append(i)\n",
    "        if (len(RacinesEntieres) == 0) :\n",
    "                return (f,g,c)\n",
    "        else :\n",
    "                p = min(RacinesEntieres)\n",
    "                u = gcd(f,g(n+p))\n",
    "                f = f // u\n",
    "                g = g // u(n-p)\n",
    "                c = c * prod([u(n-i) for i in range(1,p+1)])\n",
    "    return (f,g,c)"
   ]
  },
  {
   "cell_type": "code",
   "execution_count": 11,
   "id": "skilled-lightning",
   "metadata": {},
   "outputs": [],
   "source": [
    "f = n+3"
   ]
  },
  {
   "cell_type": "code",
   "execution_count": 12,
   "id": "prime-mechanism",
   "metadata": {},
   "outputs": [],
   "source": [
    "g = n*(n+1)"
   ]
  },
  {
   "cell_type": "code",
   "execution_count": 13,
   "id": "utility-cancer",
   "metadata": {},
   "outputs": [],
   "source": [
    "(a,b,c)=recG2(f,g)"
   ]
  },
  {
   "cell_type": "code",
   "execution_count": 14,
   "id": "convenient-spokesman",
   "metadata": {},
   "outputs": [
    {
     "data": {
      "text/plain": [
       "(1, n, n^2 + 3*n + 2)"
      ]
     },
     "execution_count": 14,
     "metadata": {},
     "output_type": "execute_result"
    }
   ],
   "source": [
    "a,b,c"
   ]
  },
  {
   "cell_type": "code",
   "execution_count": 15,
   "id": "gothic-version",
   "metadata": {},
   "outputs": [],
   "source": [
    "def secCoeff(P):\n",
    "    m = P.coefficients()\n",
    "    ncoeffs = len(m)\n",
    "    return m[ncoeffs-2]"
   ]
  },
  {
   "cell_type": "code",
   "execution_count": 16,
   "id": "empty-maple",
   "metadata": {},
   "outputs": [],
   "source": [
    "def G3_1(a,b,c) :\n",
    "    # Cas 1\n",
    "    if (a.degree() != b.degree() or (a.lc() != b.lc())) :\n",
    "        d = [c.degree() - max(a.degree(),b.degree())]\n",
    "    # Cas 2\n",
    "    else :\n",
    "        d = [c.degree() - a.degree() + 1]\n",
    "        l = a.leadCoeff()\n",
    "        A = a.secCoeff()\n",
    "        B = b.secCoeff()\n",
    "        d1 = (B-A)/l\n",
    "        if d1.is_integer() :\n",
    "            d=d+[d1]\n",
    "    m=max(d)\n",
    "    if m>=0 :\n",
    "        return m\n",
    "    else :\n",
    "        return false"
   ]
  },
  {
   "cell_type": "code",
   "execution_count": 17,
   "id": "fuzzy-bread",
   "metadata": {},
   "outputs": [
    {
     "data": {
      "text/plain": [
       "1"
      ]
     },
     "execution_count": 17,
     "metadata": {},
     "output_type": "execute_result"
    }
   ],
   "source": [
    "G3_1(a,b,c)"
   ]
  },
  {
   "cell_type": "code",
   "execution_count": 20,
   "id": "contained-leonard",
   "metadata": {},
   "outputs": [],
   "source": [
    "def G3_2(a,b,c,d) : \n",
    "    AP=PolynomialRing(QQ, d+1, 'u')\n",
    "    APn.<n>=PolynomialRing(AP)\n",
    "    v=list(gens(AP))\n",
    "    x=sum([v[i]*n^i for i in range(d+1)])\n",
    "    a=APn(a)\n",
    "    b=APn(b)\n",
    "    c=APn(c)\n",
    "    Q=a*x(n+1)-b(n-1)*x-c\n",
    "    CoeffQ=Q.coefficients()\n",
    "    for i in range(d+1) :\n",
    "        v[i]=SR(v[i])\n",
    "    for i in range(len(CoeffQ)) :\n",
    "        CoeffQ[i]=SR(CoeffQ[i])\n",
    "    Sol=solve(CoeffQ,v,solution_dict=True)\n",
    "    return sum([Sol[0][v[i]]*n^i for i in range(d+1)])"
   ]
  },
  {
   "cell_type": "code",
   "execution_count": 21,
   "id": "tired-transport",
   "metadata": {},
   "outputs": [
    {
     "data": {
      "text/plain": [
       "n*r2 - 1"
      ]
     },
     "execution_count": 21,
     "metadata": {},
     "output_type": "execute_result"
    }
   ],
   "source": [
    "G3_2(n,n+2,1,1)"
   ]
  },
  {
   "cell_type": "code",
   "execution_count": 22,
   "id": "conditional-large",
   "metadata": {},
   "outputs": [],
   "source": [
    "def G4(b,c,x,t):\n",
    "    return ((b(n-1)*x)/c)*t"
   ]
  },
  {
   "cell_type": "code",
   "execution_count": 23,
   "id": "talented-professor",
   "metadata": {},
   "outputs": [],
   "source": [
    "def Gosper(t):\n",
    "    d = G3_1(G2(G1(t)))\n",
    "    if type(d) == bool :\n",
    "        return \"Pas de Solution\"\n",
    "    else :\n",
    "        return G4(b,c,G3_2(a,b,c,d),t)"
   ]
  },
  {
   "cell_type": "code",
   "execution_count": null,
   "id": "rough-connecticut",
   "metadata": {},
   "outputs": [],
   "source": []
  }
 ],
 "metadata": {
  "kernelspec": {
   "display_name": "SageMath 9.2",
   "language": "sage",
   "name": "sagemath"
  },
  "language_info": {
   "codemirror_mode": {
    "name": "ipython",
    "version": 3
   },
   "file_extension": ".py",
   "mimetype": "text/x-python",
   "name": "python",
   "nbconvert_exporter": "python",
   "pygments_lexer": "ipython3",
   "version": "3.7.9"
  }
 },
 "nbformat": 4,
 "nbformat_minor": 5
}
