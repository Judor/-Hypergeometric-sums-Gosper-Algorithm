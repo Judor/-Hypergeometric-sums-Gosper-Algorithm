{
 "cells": [
  {
   "cell_type": "markdown",
   "id": "therapeutic-guyana",
   "metadata": {},
   "source": [
    "## Gosper"
   ]
  },
  {
   "cell_type": "code",
   "execution_count": 21,
   "id": "tamil-crossing",
   "metadata": {},
   "outputs": [
    {
     "data": {
      "text/plain": [
       "n"
      ]
     },
     "execution_count": 21,
     "metadata": {},
     "output_type": "execute_result"
    }
   ],
   "source": [
    "var('n')"
   ]
  },
  {
   "cell_type": "code",
   "execution_count": 22,
   "id": "twenty-reserve",
   "metadata": {},
   "outputs": [
    {
     "data": {
      "text/plain": [
       "h"
      ]
     },
     "execution_count": 22,
     "metadata": {},
     "output_type": "execute_result"
    }
   ],
   "source": [
    "var('h')"
   ]
  },
  {
   "cell_type": "code",
   "execution_count": 23,
   "id": "exciting-melissa",
   "metadata": {},
   "outputs": [],
   "source": [
    "Qn.<n> = PolynomialRing(QQ)"
   ]
  },
  {
   "cell_type": "code",
   "execution_count": 24,
   "id": "obvious-disclaimer",
   "metadata": {},
   "outputs": [],
   "source": [
    "Qh.<h> = PolynomialRing(QQ)"
   ]
  },
  {
   "cell_type": "code",
   "execution_count": 25,
   "id": "speaking-running",
   "metadata": {},
   "outputs": [],
   "source": [
    "Qhn.<n> = PolynomialRing(Qh)"
   ]
  },
  {
   "cell_type": "code",
   "execution_count": 26,
   "id": "collaborative-attendance",
   "metadata": {},
   "outputs": [],
   "source": [
    "#### t = binomial(2*n,n)"
   ]
  },
  {
   "cell_type": "code",
   "execution_count": 27,
   "id": "magnetic-refund",
   "metadata": {},
   "outputs": [],
   "source": [
    "#### r = t(n+1)/t(n)"
   ]
  },
  {
   "cell_type": "markdown",
   "id": "empty-flooring",
   "metadata": {},
   "source": [
    "### On crée f et g à partir de r"
   ]
  },
  {
   "cell_type": "code",
   "execution_count": 28,
   "id": "weird-liverpool",
   "metadata": {},
   "outputs": [],
   "source": [
    "def G1(t):\n",
    "    r=t(n+1)/t(n)"
   ]
  },
  {
   "cell_type": "code",
   "execution_count": 29,
   "id": "latter-administrator",
   "metadata": {},
   "outputs": [],
   "source": [
    "def G2(r) :\n",
    "    f = r.nominator()\n",
    "    g = r.denominator()\n",
    "    recG2(f,g)"
   ]
  },
  {
   "cell_type": "code",
   "execution_count": 30,
   "id": "lined-commercial",
   "metadata": {},
   "outputs": [],
   "source": [
    "def recG2(f,g) :\n",
    "    f=Qhn(f)\n",
    "    g=Qhn(g)\n",
    "    c=1\n",
    "    RacinesEntieres=[0]\n",
    "    while (RacinesEntieres!= []) :\n",
    "        R=f.resultant(g(n+h))\n",
    "        V=R.roots()\n",
    "        RacinesRes=[v[0] for v in V]\n",
    "        RacinesEntieres = []\n",
    "        for i in RacinesRes :\n",
    "            if (i.is_integer())&(i>=0) :\n",
    "                RacinesEntieres.append(i)\n",
    "        if (len(RacinesEntieres) == 0) :\n",
    "                return (f,g,c)\n",
    "        else :\n",
    "                p = min(RacinesEntieres)\n",
    "                u = gcd(f,g(n+p))\n",
    "                f = f // u\n",
    "                g = g // u(n-p)\n",
    "                c = c * prod([u(n-i) for i in range(1,p+1)])\n",
    "    return (f,g,c)"
   ]
  },
  {
   "cell_type": "code",
   "execution_count": 31,
   "id": "behavioral-indonesian",
   "metadata": {},
   "outputs": [],
   "source": [
    "f = n+3"
   ]
  },
  {
   "cell_type": "code",
   "execution_count": 32,
   "id": "hairy-asthma",
   "metadata": {},
   "outputs": [],
   "source": [
    "g = n*(n+1)"
   ]
  },
  {
   "cell_type": "code",
   "execution_count": 33,
   "id": "graphic-letters",
   "metadata": {},
   "outputs": [],
   "source": [
    "(a,b,c)=recG2(f,g)"
   ]
  },
  {
   "cell_type": "code",
   "execution_count": 34,
   "id": "immune-alarm",
   "metadata": {},
   "outputs": [
    {
     "data": {
      "text/plain": [
       "n^2 + 3*n + 2"
      ]
     },
     "execution_count": 34,
     "metadata": {},
     "output_type": "execute_result"
    }
   ],
   "source": [
    "c"
   ]
  },
  {
   "cell_type": "code",
   "execution_count": 43,
   "id": "documentary-constant",
   "metadata": {},
   "outputs": [],
   "source": [
    "def secCoeff(P):\n",
    "    m = P.coefficients()\n",
    "    ncoeffs = len(m)\n",
    "    return m[ncoeffs-2]"
   ]
  },
  {
   "cell_type": "code",
   "execution_count": 44,
   "id": "congressional-stereo",
   "metadata": {},
   "outputs": [],
   "source": [
    "def G3_1(a,b,c) :\n",
    "    # Cas 1\n",
    "    if (a.degree() != b.degree() or (a.lc() != b.lc())) :\n",
    "        d = [c.degree() - max(a.degree(),b.degree())]\n",
    "    # Cas 2\n",
    "    else :\n",
    "        d = [c.degree() - a.degree() + 1]\n",
    "        l = a.leadCoeff()\n",
    "        A = a.secCoeff()\n",
    "        B = b.secCoeff()\n",
    "        d1 = (B-A)/l\n",
    "        if d1.is_integer() :\n",
    "            d=d+[d1]\n",
    "    m=max(d)\n",
    "    if m>=0 :\n",
    "        return m\n",
    "    else :\n",
    "        return false"
   ]
  },
  {
   "cell_type": "code",
   "execution_count": 46,
   "id": "thick-disco",
   "metadata": {},
   "outputs": [
    {
     "data": {
      "text/plain": [
       "1"
      ]
     },
     "execution_count": 46,
     "metadata": {},
     "output_type": "execute_result"
    }
   ],
   "source": [
    "G3_1(a,b,c)"
   ]
  },
  {
   "cell_type": "code",
   "execution_count": 67,
   "id": "labeled-shareware",
   "metadata": {},
   "outputs": [],
   "source": [
    "def G3_2(a,b,c,d) : \n",
    "    AP=PolynomialRing(QQ, d, 'u')\n",
    "    APn.<n>=PolynomialRing(AP)\n",
    "    v=list(gens(AP))\n",
    "    x=sum([v[i]*n^i for i in range(d)])\n",
    "    a=APn(a)\n",
    "    b=APn(b)\n",
    "    c=APn(c)\n",
    "    Q=a*x(n+1)-b(n-1)*x-c\n",
    "    CoeffQ=Q.coefficients()\n",
    "    for i in range(d) :\n",
    "        v[i]=SR(v[i])\n",
    "    for i in range(len(CoeffQ)) :\n",
    "        CoeffQ[i]=SR(CoeffQ[i])\n",
    "    Sol=solve(CoeffQ,v,solution_dict=True)\n",
    "    sum([Sol[0][v[i]]*n^i for i in range(len(Sol[0]))])\n",
    "    return S0.keys()"
   ]
  },
  {
   "cell_type": "code",
   "execution_count": 68,
   "id": "authorized-joint",
   "metadata": {},
   "outputs": [
    {
     "ename": "IndexError",
     "evalue": "list index out of range",
     "output_type": "error",
     "traceback": [
      "\u001b[0;31m---------------------------------------------------------------------------\u001b[0m",
      "\u001b[0;31mIndexError\u001b[0m                                Traceback (most recent call last)",
      "\u001b[0;32m<ipython-input-68-7eb08859bfb7>\u001b[0m in \u001b[0;36m<module>\u001b[0;34m\u001b[0m\n\u001b[0;32m----> 1\u001b[0;31m \u001b[0mG3_2\u001b[0m\u001b[0;34m(\u001b[0m\u001b[0ma\u001b[0m\u001b[0;34m,\u001b[0m\u001b[0mb\u001b[0m\u001b[0;34m,\u001b[0m\u001b[0mc\u001b[0m\u001b[0;34m,\u001b[0m\u001b[0mG3_1\u001b[0m\u001b[0;34m(\u001b[0m\u001b[0ma\u001b[0m\u001b[0;34m,\u001b[0m\u001b[0mb\u001b[0m\u001b[0;34m,\u001b[0m\u001b[0mc\u001b[0m\u001b[0;34m)\u001b[0m\u001b[0;34m)\u001b[0m\u001b[0;34m\u001b[0m\u001b[0;34m\u001b[0m\u001b[0m\n\u001b[0m",
      "\u001b[0;32m<ipython-input-67-85931058a05f>\u001b[0m in \u001b[0;36mG3_2\u001b[0;34m(a, b, c, d)\u001b[0m\n\u001b[1;32m     14\u001b[0m         \u001b[0mCoeffQ\u001b[0m\u001b[0;34m[\u001b[0m\u001b[0mi\u001b[0m\u001b[0;34m]\u001b[0m\u001b[0;34m=\u001b[0m\u001b[0mSR\u001b[0m\u001b[0;34m(\u001b[0m\u001b[0mCoeffQ\u001b[0m\u001b[0;34m[\u001b[0m\u001b[0mi\u001b[0m\u001b[0;34m]\u001b[0m\u001b[0;34m)\u001b[0m\u001b[0;34m\u001b[0m\u001b[0;34m\u001b[0m\u001b[0m\n\u001b[1;32m     15\u001b[0m     \u001b[0mSol\u001b[0m\u001b[0;34m=\u001b[0m\u001b[0msolve\u001b[0m\u001b[0;34m(\u001b[0m\u001b[0mCoeffQ\u001b[0m\u001b[0;34m,\u001b[0m\u001b[0mv\u001b[0m\u001b[0;34m,\u001b[0m\u001b[0msolution_dict\u001b[0m\u001b[0;34m=\u001b[0m\u001b[0;32mTrue\u001b[0m\u001b[0;34m)\u001b[0m\u001b[0;34m\u001b[0m\u001b[0;34m\u001b[0m\u001b[0m\n\u001b[0;32m---> 16\u001b[0;31m     \u001b[0msum\u001b[0m\u001b[0;34m(\u001b[0m\u001b[0;34m[\u001b[0m\u001b[0mSol\u001b[0m\u001b[0;34m[\u001b[0m\u001b[0mInteger\u001b[0m\u001b[0;34m(\u001b[0m\u001b[0;36m0\u001b[0m\u001b[0;34m)\u001b[0m\u001b[0;34m]\u001b[0m\u001b[0;34m[\u001b[0m\u001b[0mv\u001b[0m\u001b[0;34m[\u001b[0m\u001b[0mi\u001b[0m\u001b[0;34m]\u001b[0m\u001b[0;34m]\u001b[0m\u001b[0;34m*\u001b[0m\u001b[0mn\u001b[0m\u001b[0;34m**\u001b[0m\u001b[0mi\u001b[0m \u001b[0;32mfor\u001b[0m \u001b[0mi\u001b[0m \u001b[0;32min\u001b[0m \u001b[0mrange\u001b[0m\u001b[0;34m(\u001b[0m\u001b[0mlen\u001b[0m\u001b[0;34m(\u001b[0m\u001b[0mSol\u001b[0m\u001b[0;34m[\u001b[0m\u001b[0mInteger\u001b[0m\u001b[0;34m(\u001b[0m\u001b[0;36m0\u001b[0m\u001b[0;34m)\u001b[0m\u001b[0;34m]\u001b[0m\u001b[0;34m)\u001b[0m\u001b[0;34m)\u001b[0m\u001b[0;34m]\u001b[0m\u001b[0;34m)\u001b[0m\u001b[0;34m\u001b[0m\u001b[0;34m\u001b[0m\u001b[0m\n\u001b[0m\u001b[1;32m     17\u001b[0m     \u001b[0;32mreturn\u001b[0m \u001b[0mS0\u001b[0m\u001b[0;34m.\u001b[0m\u001b[0mkeys\u001b[0m\u001b[0;34m(\u001b[0m\u001b[0;34m)\u001b[0m\u001b[0;34m\u001b[0m\u001b[0;34m\u001b[0m\u001b[0m\n",
      "\u001b[0;31mIndexError\u001b[0m: list index out of range"
     ]
    }
   ],
   "source": [
    "G3_2(a,b,c,G3_1(a,b,c))"
   ]
  },
  {
   "cell_type": "code",
   "execution_count": null,
   "id": "romantic-madison",
   "metadata": {},
   "outputs": [],
   "source": []
  },
  {
   "cell_type": "code",
   "execution_count": null,
   "id": "combined-michael",
   "metadata": {},
   "outputs": [],
   "source": []
  }
 ],
 "metadata": {
  "kernelspec": {
   "display_name": "SageMath 9.2",
   "language": "sage",
   "name": "sagemath"
  },
  "language_info": {
   "codemirror_mode": {
    "name": "ipython",
    "version": 3
   },
   "file_extension": ".py",
   "mimetype": "text/x-python",
   "name": "python",
   "nbconvert_exporter": "python",
   "pygments_lexer": "ipython3",
   "version": "3.7.9"
  }
 },
 "nbformat": 4,
 "nbformat_minor": 5
}
