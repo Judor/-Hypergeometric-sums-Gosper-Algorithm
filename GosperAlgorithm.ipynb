{
 "cells": [
  {
   "cell_type": "markdown",
   "id": "filled-brass",
   "metadata": {},
   "source": [
    "## Gosper"
   ]
  },
  {
   "cell_type": "code",
   "execution_count": 2,
   "id": "international-islam",
   "metadata": {},
   "outputs": [
    {
     "data": {
      "text/plain": [
       "n"
      ]
     },
     "execution_count": 2,
     "metadata": {},
     "output_type": "execute_result"
    }
   ],
   "source": [
    "var('n')"
   ]
  },
  {
   "cell_type": "code",
   "execution_count": 3,
   "id": "laden-bolivia",
   "metadata": {},
   "outputs": [],
   "source": [
    "Qn.<n> = PolynomialRing(QQ)"
   ]
  },
  {
   "cell_type": "code",
   "execution_count": 4,
   "id": "sophisticated-resistance",
   "metadata": {},
   "outputs": [],
   "source": [
    "Qh.<h> = PolynomialRing(QQ)"
   ]
  },
  {
   "cell_type": "code",
   "execution_count": 5,
   "id": "antique-jewel",
   "metadata": {},
   "outputs": [],
   "source": [
    "Qhn.<n> = PolynomialRing(Qh)"
   ]
  },
  {
   "cell_type": "code",
   "execution_count": 6,
   "id": "extensive-motivation",
   "metadata": {},
   "outputs": [],
   "source": [
    "t = binomial(2*n,n)"
   ]
  },
  {
   "cell_type": "code",
   "execution_count": 7,
   "id": "passive-meaning",
   "metadata": {},
   "outputs": [],
   "source": [
    "r = t(n+1)/t(n)"
   ]
  },
  {
   "cell_type": "markdown",
   "id": "prime-dominican",
   "metadata": {},
   "source": [
    "### On définit f(n) et g(n) 2 poly premiers entre eux dont le * est  = r"
   ]
  },
  {
   "cell_type": "markdown",
   "id": "complicated-analyst",
   "metadata": {},
   "source": [
    "#### r = r.simplify_full(); r"
   ]
  },
  {
   "cell_type": "markdown",
   "id": "acceptable-arctic",
   "metadata": {},
   "source": [
    "#### f = r.numerator(); f"
   ]
  },
  {
   "cell_type": "code",
   "execution_count": 8,
   "id": "frank-leather",
   "metadata": {},
   "outputs": [],
   "source": [
    "f = n^2-1"
   ]
  },
  {
   "cell_type": "markdown",
   "id": "requested-payroll",
   "metadata": {},
   "source": [
    "#### g = r.denominator(); g"
   ]
  },
  {
   "cell_type": "code",
   "execution_count": 9,
   "id": "working-maple",
   "metadata": {},
   "outputs": [],
   "source": [
    "g = n^2"
   ]
  },
  {
   "cell_type": "markdown",
   "id": "directed-attribute",
   "metadata": {},
   "source": [
    "### On crée f et g à partir de r"
   ]
  },
  {
   "cell_type": "code",
   "execution_count": 10,
   "id": "composed-boutique",
   "metadata": {},
   "outputs": [
    {
     "data": {
      "text/plain": [
       "n^2 - 1"
      ]
     },
     "execution_count": 10,
     "metadata": {},
     "output_type": "execute_result"
    }
   ],
   "source": [
    "f=Qhn(f);f"
   ]
  },
  {
   "cell_type": "code",
   "execution_count": 11,
   "id": "confident-machinery",
   "metadata": {},
   "outputs": [
    {
     "data": {
      "text/plain": [
       "n^2"
      ]
     },
     "execution_count": 11,
     "metadata": {},
     "output_type": "execute_result"
    }
   ],
   "source": [
    "g=Qhn(g);g"
   ]
  },
  {
   "cell_type": "markdown",
   "id": "western-sacramento",
   "metadata": {},
   "source": [
    "### On définit rgf résultant de f et g"
   ]
  },
  {
   "cell_type": "code",
   "execution_count": 21,
   "id": "useful-chaos",
   "metadata": {},
   "outputs": [
    {
     "data": {
      "text/plain": [
       "h^4 - 2*h^2 + 1"
      ]
     },
     "execution_count": 21,
     "metadata": {},
     "output_type": "execute_result"
    }
   ],
   "source": [
    "R=f.resultant(g(n+h));R"
   ]
  },
  {
   "cell_type": "code",
   "execution_count": 22,
   "id": "prepared-telling",
   "metadata": {},
   "outputs": [
    {
     "data": {
      "text/plain": [
       "(h - 1)^2 * (h + 1)^2"
      ]
     },
     "execution_count": 22,
     "metadata": {},
     "output_type": "execute_result"
    }
   ],
   "source": [
    "factor(R)"
   ]
  },
  {
   "cell_type": "markdown",
   "id": "actual-french",
   "metadata": {},
   "source": [
    "### Le PGCD de f(n) et g(n+h) sera egal à 1 si et seulement si le résultant R est non nul"
   ]
  },
  {
   "cell_type": "markdown",
   "id": "little-router",
   "metadata": {},
   "source": [
    "###  S'il est non nul, alors on obtient directement les polynômes suivants :\n",
    "### a(n) = f(n) / b(n) = g(n) / c(n) = 1\n",
    "### Et on termine le Pas 2. "
   ]
  },
  {
   "cell_type": "code",
   "execution_count": 23,
   "id": "military-thursday",
   "metadata": {},
   "outputs": [],
   "source": [
    "if (R != 0) :\n",
    "    a=f\n",
    "    b=g\n",
    "    c=1"
   ]
  },
  {
   "cell_type": "markdown",
   "id": "metallic-purchase",
   "metadata": {},
   "source": [
    "### Sinon, on doit factoriser f et g par un facteur commun"
   ]
  },
  {
   "cell_type": "markdown",
   "id": "electoral-runner",
   "metadata": {},
   "source": [
    "### On commence par regarder les racines du résultant"
   ]
  },
  {
   "cell_type": "markdown",
   "id": "monetary-presence",
   "metadata": {},
   "source": [
    "### On cherche un h tel que le résultant s'annule\n",
    "### S'il ne s'annule pas en h-<>N, alors on ne peut pas trouver.\n",
    "### On teste pour toutes les racines appartenant à N du resultant"
   ]
  },
  {
   "cell_type": "code",
   "execution_count": 24,
   "id": "directed-enzyme",
   "metadata": {},
   "outputs": [
    {
     "data": {
      "text/plain": [
       "[(1, 2), (-1, 2)]"
      ]
     },
     "execution_count": 24,
     "metadata": {},
     "output_type": "execute_result"
    }
   ],
   "source": [
    "V=R.roots();V"
   ]
  },
  {
   "cell_type": "code",
   "execution_count": 25,
   "id": "chemical-trademark",
   "metadata": {},
   "outputs": [
    {
     "data": {
      "text/plain": [
       "[1, -1]"
      ]
     },
     "execution_count": 25,
     "metadata": {},
     "output_type": "execute_result"
    }
   ],
   "source": [
    "Racines=[v[0] for v in V];Racines"
   ]
  },
  {
   "cell_type": "code",
   "execution_count": 33,
   "id": "fabulous-conversation",
   "metadata": {},
   "outputs": [
    {
     "data": {
      "text/plain": [
       "[1]"
      ]
     },
     "execution_count": 33,
     "metadata": {},
     "output_type": "execute_result"
    }
   ],
   "source": [
    "RacinesN = []\n",
    "for i in Racines :\n",
    "    if (i.is_integer())&(i>=0) :\n",
    "        RacinesN.append(i)\n",
    "RacinesN"
   ]
  },
  {
   "cell_type": "markdown",
   "id": "compliant-carbon",
   "metadata": {},
   "source": [
    "### On à desormais une liste RacinesN qui correspondant à la la liste des racines du résultant dans N "
   ]
  },
  {
   "cell_type": "markdown",
   "id": "insured-source",
   "metadata": {},
   "source": []
  }
 ],
 "metadata": {
  "kernelspec": {
   "display_name": "SageMath 9.2",
   "language": "sage",
   "name": "sagemath"
  },
  "language_info": {
   "codemirror_mode": {
    "name": "ipython",
    "version": 3
   },
   "file_extension": ".py",
   "mimetype": "text/x-python",
   "name": "python",
   "nbconvert_exporter": "python",
   "pygments_lexer": "ipython3",
   "version": "3.7.9"
  }
 },
 "nbformat": 4,
 "nbformat_minor": 5
}
