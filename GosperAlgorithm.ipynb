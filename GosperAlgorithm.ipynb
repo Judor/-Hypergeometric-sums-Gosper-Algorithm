{
 "cells": [
  {
   "cell_type": "markdown",
   "id": "polish-duration",
   "metadata": {},
   "source": [
    "## Gosper"
   ]
  },
  {
   "cell_type": "code",
   "execution_count": 2,
   "id": "turkish-journalism",
   "metadata": {},
   "outputs": [
    {
     "data": {
      "text/plain": [
       "n"
      ]
     },
     "execution_count": 2,
     "metadata": {},
     "output_type": "execute_result"
    }
   ],
   "source": [
    "var('n')"
   ]
  },
  {
   "cell_type": "code",
   "execution_count": 3,
   "id": "brilliant-ballot",
   "metadata": {},
   "outputs": [],
   "source": [
    "Qn.<n> = PolynomialRing(QQ)"
   ]
  },
  {
   "cell_type": "code",
   "execution_count": 4,
   "id": "terminal-rider",
   "metadata": {},
   "outputs": [],
   "source": [
    "Qh.<h> = PolynomialRing(QQ)"
   ]
  },
  {
   "cell_type": "code",
   "execution_count": 5,
   "id": "associate-douglas",
   "metadata": {},
   "outputs": [],
   "source": [
    "Qhn.<n> = PolynomialRing(Qh)"
   ]
  },
  {
   "cell_type": "code",
   "execution_count": 6,
   "id": "prescribed-fishing",
   "metadata": {},
   "outputs": [],
   "source": [
    "t = binomial(2*n,n)"
   ]
  },
  {
   "cell_type": "code",
   "execution_count": 7,
   "id": "polish-going",
   "metadata": {},
   "outputs": [],
   "source": [
    "r = t(n+1)/t(n)"
   ]
  },
  {
   "cell_type": "markdown",
   "id": "divine-prize",
   "metadata": {},
   "source": [
    "### On définit f(n) et g(n) 2 poly premiers entre eux dont le * est  = r"
   ]
  },
  {
   "cell_type": "code",
   "execution_count": 8,
   "id": "novel-recycling",
   "metadata": {},
   "outputs": [
    {
     "data": {
      "text/plain": [
       "2*(2*n + 1)/(n + 1)"
      ]
     },
     "execution_count": 8,
     "metadata": {},
     "output_type": "execute_result"
    }
   ],
   "source": [
    "r = r.simplify_full(); r"
   ]
  },
  {
   "cell_type": "code",
   "execution_count": 9,
   "id": "subsequent-corps",
   "metadata": {},
   "outputs": [
    {
     "data": {
      "text/plain": [
       "4*n + 2"
      ]
     },
     "execution_count": 9,
     "metadata": {},
     "output_type": "execute_result"
    }
   ],
   "source": [
    "f = r.numerator(); f"
   ]
  },
  {
   "cell_type": "code",
   "execution_count": 10,
   "id": "worth-arctic",
   "metadata": {},
   "outputs": [
    {
     "data": {
      "text/plain": [
       "n + 1"
      ]
     },
     "execution_count": 10,
     "metadata": {},
     "output_type": "execute_result"
    }
   ],
   "source": [
    "g = r.denominator(); g"
   ]
  },
  {
   "cell_type": "markdown",
   "id": "hungarian-parameter",
   "metadata": {},
   "source": [
    "### On crée f et g à partir de r"
   ]
  },
  {
   "cell_type": "code",
   "execution_count": 11,
   "id": "acceptable-spray",
   "metadata": {},
   "outputs": [
    {
     "data": {
      "text/plain": [
       "4*n + 2"
      ]
     },
     "execution_count": 11,
     "metadata": {},
     "output_type": "execute_result"
    }
   ],
   "source": [
    "f=Qhn(f);f"
   ]
  },
  {
   "cell_type": "code",
   "execution_count": 12,
   "id": "invisible-dietary",
   "metadata": {},
   "outputs": [
    {
     "data": {
      "text/plain": [
       "n + 1"
      ]
     },
     "execution_count": 12,
     "metadata": {},
     "output_type": "execute_result"
    }
   ],
   "source": [
    "g=Qhn(g);g"
   ]
  },
  {
   "cell_type": "markdown",
   "id": "further-abuse",
   "metadata": {},
   "source": [
    "### On définit rgf résultant de f et g"
   ]
  },
  {
   "cell_type": "code",
   "execution_count": 13,
   "id": "vertical-marketplace",
   "metadata": {},
   "outputs": [
    {
     "data": {
      "text/plain": [
       "4*h + 2"
      ]
     },
     "execution_count": 13,
     "metadata": {},
     "output_type": "execute_result"
    }
   ],
   "source": [
    "rgf=f.resultant(g(n+h));rgf"
   ]
  },
  {
   "cell_type": "markdown",
   "id": "official-encounter",
   "metadata": {},
   "source": [
    "### Le PGCD de f(n) et g(n+h) sera egal à 1 si et seulement si rgf résultant est non nul"
   ]
  },
  {
   "cell_type": "markdown",
   "id": "understood-wilderness",
   "metadata": {},
   "source": [
    "###  S'il est non nul, alors on obtient directement les polynômes suivants :\n",
    "### a(n) = f(n) / b(n) = g(n) / c(n) = 1\n",
    "### Et on termine le Pas 2. "
   ]
  },
  {
   "cell_type": "code",
   "execution_count": 16,
   "id": "swiss-walter",
   "metadata": {},
   "outputs": [],
   "source": [
    "if (rgf != 0) :\n",
    "    a=f\n",
    "    b=g\n",
    "    c=1"
   ]
  },
  {
   "cell_type": "markdown",
   "id": "floppy-contributor",
   "metadata": {},
   "source": [
    "### Sinon, on doit factoriser f et g par un facteur commun"
   ]
  },
  {
   "cell_type": "markdown",
   "id": "annual-perfume",
   "metadata": {},
   "source": [
    "### On définit u(n) facteur commun"
   ]
  },
  {
   "cell_type": "code",
   "execution_count": 19,
   "id": "sophisticated-mistress",
   "metadata": {},
   "outputs": [
    {
     "data": {
      "text/plain": [
       "(2) * (2*n + 1)"
      ]
     },
     "execution_count": 19,
     "metadata": {},
     "output_type": "execute_result"
    }
   ],
   "source": [
    "f.factor()"
   ]
  },
  {
   "cell_type": "code",
   "execution_count": 20,
   "id": "compact-league",
   "metadata": {},
   "outputs": [
    {
     "data": {
      "text/plain": [
       "n + 1"
      ]
     },
     "execution_count": 20,
     "metadata": {},
     "output_type": "execute_result"
    }
   ],
   "source": []
  },
  {
   "cell_type": "code",
   "execution_count": null,
   "id": "smaller-chemistry",
   "metadata": {},
   "outputs": [],
   "source": []
  }
 ],
 "metadata": {
  "kernelspec": {
   "display_name": "SageMath 9.2",
   "language": "sage",
   "name": "sagemath"
  },
  "language_info": {
   "codemirror_mode": {
    "name": "ipython",
    "version": 3
   },
   "file_extension": ".py",
   "mimetype": "text/x-python",
   "name": "python",
   "nbconvert_exporter": "python",
   "pygments_lexer": "ipython3",
   "version": "3.7.9"
  }
 },
 "nbformat": 4,
 "nbformat_minor": 5
}
