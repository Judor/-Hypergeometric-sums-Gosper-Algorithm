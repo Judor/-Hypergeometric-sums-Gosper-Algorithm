{
 "cells": [
  {
   "cell_type": "markdown",
   "id": "boxed-publisher",
   "metadata": {},
   "source": [
    "## Gosper"
   ]
  },
  {
   "cell_type": "code",
   "execution_count": 67,
   "id": "modular-original",
   "metadata": {},
   "outputs": [
    {
     "data": {
      "text/plain": [
       "n"
      ]
     },
     "execution_count": 67,
     "metadata": {},
     "output_type": "execute_result"
    }
   ],
   "source": [
    "var('n')"
   ]
  },
  {
   "cell_type": "code",
   "execution_count": 68,
   "id": "connected-requirement",
   "metadata": {},
   "outputs": [],
   "source": [
    "Qn.<n> = PolynomialRing(QQ)"
   ]
  },
  {
   "cell_type": "code",
   "execution_count": 69,
   "id": "polished-model",
   "metadata": {},
   "outputs": [],
   "source": [
    "Qh.<h> = PolynomialRing(QQ)"
   ]
  },
  {
   "cell_type": "code",
   "execution_count": 70,
   "id": "vulnerable-auction",
   "metadata": {},
   "outputs": [],
   "source": [
    "Qhn.<n> = PolynomialRing(Qh)"
   ]
  },
  {
   "cell_type": "code",
   "execution_count": 71,
   "id": "applicable-talent",
   "metadata": {},
   "outputs": [],
   "source": [
    "t = binomial(2*n,n)"
   ]
  },
  {
   "cell_type": "code",
   "execution_count": 72,
   "id": "suited-mountain",
   "metadata": {},
   "outputs": [],
   "source": [
    "r = t(n+1)/t(n)"
   ]
  },
  {
   "cell_type": "markdown",
   "id": "adjustable-behalf",
   "metadata": {},
   "source": [
    "### On définit f(n) et g(n) 2 poly premiers entre eux dont le * est  = r"
   ]
  },
  {
   "cell_type": "markdown",
   "id": "hispanic-sullivan",
   "metadata": {},
   "source": [
    "#### r = r.simplify_full(); r"
   ]
  },
  {
   "cell_type": "markdown",
   "id": "certified-association",
   "metadata": {},
   "source": [
    "#### f = r.numerator(); f"
   ]
  },
  {
   "cell_type": "code",
   "execution_count": 73,
   "id": "sacred-vietnamese",
   "metadata": {},
   "outputs": [],
   "source": [
    "f = n^2-1"
   ]
  },
  {
   "cell_type": "markdown",
   "id": "lonely-hearing",
   "metadata": {},
   "source": [
    "#### g = r.denominator(); g"
   ]
  },
  {
   "cell_type": "code",
   "execution_count": 74,
   "id": "sunrise-rachel",
   "metadata": {},
   "outputs": [],
   "source": [
    "g = n^2"
   ]
  },
  {
   "cell_type": "markdown",
   "id": "fifty-creativity",
   "metadata": {},
   "source": [
    "### On crée f et g à partir de r"
   ]
  },
  {
   "cell_type": "code",
   "execution_count": 75,
   "id": "romance-summer",
   "metadata": {},
   "outputs": [
    {
     "data": {
      "text/plain": [
       "n^2 - 1"
      ]
     },
     "execution_count": 75,
     "metadata": {},
     "output_type": "execute_result"
    }
   ],
   "source": [
    "f=Qhn(f);f"
   ]
  },
  {
   "cell_type": "code",
   "execution_count": 76,
   "id": "international-faith",
   "metadata": {},
   "outputs": [
    {
     "data": {
      "text/plain": [
       "n^2"
      ]
     },
     "execution_count": 76,
     "metadata": {},
     "output_type": "execute_result"
    }
   ],
   "source": [
    "g=Qhn(g);g"
   ]
  },
  {
   "cell_type": "markdown",
   "id": "greatest-exception",
   "metadata": {},
   "source": [
    "### On définit rgf résultant de f et g"
   ]
  },
  {
   "cell_type": "code",
   "execution_count": 77,
   "id": "individual-walter",
   "metadata": {},
   "outputs": [
    {
     "data": {
      "text/plain": [
       "h^4 - 2*h^2 + 1"
      ]
     },
     "execution_count": 77,
     "metadata": {},
     "output_type": "execute_result"
    }
   ],
   "source": [
    "R=f.resultant(g(n+h));R"
   ]
  },
  {
   "cell_type": "code",
   "execution_count": 78,
   "id": "stupid-bradley",
   "metadata": {},
   "outputs": [
    {
     "data": {
      "text/plain": [
       "(h - 1)^2 * (h + 1)^2"
      ]
     },
     "execution_count": 78,
     "metadata": {},
     "output_type": "execute_result"
    }
   ],
   "source": [
    "factor(R)"
   ]
  },
  {
   "cell_type": "markdown",
   "id": "wicked-contrast",
   "metadata": {},
   "source": [
    "### Le PGCD de f(n) et g(n+h) sera egal à 1 si et seulement si le résultant R est non nul"
   ]
  },
  {
   "cell_type": "markdown",
   "id": "endless-composer",
   "metadata": {},
   "source": [
    "###  S'il est non nul, alors on obtient directement les polynômes suivants :\n",
    "### a(n) = f(n) / b(n) = g(n) / c(n) = 1\n",
    "### Et on termine le Pas 2. "
   ]
  },
  {
   "cell_type": "code",
   "execution_count": 79,
   "id": "ambient-minimum",
   "metadata": {},
   "outputs": [],
   "source": [
    "if (R != 0) :\n",
    "    a=f\n",
    "    b=g\n",
    "    c=1"
   ]
  },
  {
   "cell_type": "markdown",
   "id": "about-moses",
   "metadata": {},
   "source": [
    "### Sinon, on doit factoriser f et g par un facteur commun"
   ]
  },
  {
   "cell_type": "markdown",
   "id": "pleased-encoding",
   "metadata": {},
   "source": [
    "### On commence par regarder les racines du résultant"
   ]
  },
  {
   "cell_type": "code",
   "execution_count": 80,
   "id": "tight-jurisdiction",
   "metadata": {},
   "outputs": [
    {
     "data": {
      "text/plain": [
       "[(1, 2), (-1, 2)]"
      ]
     },
     "execution_count": 80,
     "metadata": {},
     "output_type": "execute_result"
    }
   ],
   "source": [
    "V=R.roots();V"
   ]
  },
  {
   "cell_type": "code",
   "execution_count": 81,
   "id": "passive-maker",
   "metadata": {},
   "outputs": [
    {
     "ename": "TypeError",
     "evalue": "tuple indices must be integers or slices, not function",
     "output_type": "error",
     "traceback": [
      "\u001b[0;31m---------------------------------------------------------------------------\u001b[0m",
      "\u001b[0;31mTypeError\u001b[0m                                 Traceback (most recent call last)",
      "\u001b[0;32m<ipython-input-81-224d0cd53527>\u001b[0m in \u001b[0;36m<module>\u001b[0;34m\u001b[0m\n\u001b[0;32m----> 1\u001b[0;31m \u001b[0mR\u001b[0m\u001b[0;34m=\u001b[0m\u001b[0;34m[\u001b[0m\u001b[0mv\u001b[0m\u001b[0;34m[\u001b[0m\u001b[0mO\u001b[0m\u001b[0;34m]\u001b[0m \u001b[0;32mfor\u001b[0m \u001b[0mv\u001b[0m \u001b[0;32min\u001b[0m \u001b[0mV\u001b[0m\u001b[0;34m]\u001b[0m\u001b[0;34m\u001b[0m\u001b[0;34m\u001b[0m\u001b[0m\n\u001b[0m",
      "\u001b[0;32m<ipython-input-81-224d0cd53527>\u001b[0m in \u001b[0;36m<listcomp>\u001b[0;34m(.0)\u001b[0m\n\u001b[0;32m----> 1\u001b[0;31m \u001b[0mR\u001b[0m\u001b[0;34m=\u001b[0m\u001b[0;34m[\u001b[0m\u001b[0mv\u001b[0m\u001b[0;34m[\u001b[0m\u001b[0mO\u001b[0m\u001b[0;34m]\u001b[0m \u001b[0;32mfor\u001b[0m \u001b[0mv\u001b[0m \u001b[0;32min\u001b[0m \u001b[0mV\u001b[0m\u001b[0;34m]\u001b[0m\u001b[0;34m\u001b[0m\u001b[0;34m\u001b[0m\u001b[0m\n\u001b[0m",
      "\u001b[0;31mTypeError\u001b[0m: tuple indices must be integers or slices, not function"
     ]
    }
   ],
   "source": [
    "R=[v[O] for v in V]"
   ]
  },
  {
   "cell_type": "markdown",
   "id": "inside-camcorder",
   "metadata": {},
   "source": [
    "### On définit u(n) facteur commun"
   ]
  },
  {
   "cell_type": "markdown",
   "id": "painted-sending",
   "metadata": {},
   "source": [
    "### On cherche un h tel que le résultant s'annule\n",
    "### S'il ne s'annule pas en h-<>N, alors on ne peut pas trouver.\n",
    "### On teste pour toutes les racines appartenant à N du resultant"
   ]
  }
 ],
 "metadata": {
  "kernelspec": {
   "display_name": "SageMath 9.2",
   "language": "sage",
   "name": "sagemath"
  },
  "language_info": {
   "codemirror_mode": {
    "name": "ipython",
    "version": 3
   },
   "file_extension": ".py",
   "mimetype": "text/x-python",
   "name": "python",
   "nbconvert_exporter": "python",
   "pygments_lexer": "ipython3",
   "version": "3.7.9"
  }
 },
 "nbformat": 4,
 "nbformat_minor": 5
}
