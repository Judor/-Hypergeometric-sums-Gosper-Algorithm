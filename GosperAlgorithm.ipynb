{
 "cells": [
  {
   "cell_type": "markdown",
   "id": "virgin-initial",
   "metadata": {},
   "source": [
    "## Gosper"
   ]
  },
  {
   "cell_type": "code",
   "execution_count": 1,
   "id": "joint-profile",
   "metadata": {},
   "outputs": [
    {
     "data": {
      "text/plain": [
       "n"
      ]
     },
     "execution_count": 1,
     "metadata": {},
     "output_type": "execute_result"
    }
   ],
   "source": [
    "var('n')"
   ]
  },
  {
   "cell_type": "code",
   "execution_count": 2,
   "id": "helpful-wyoming",
   "metadata": {},
   "outputs": [
    {
     "data": {
      "text/plain": [
       "h"
      ]
     },
     "execution_count": 2,
     "metadata": {},
     "output_type": "execute_result"
    }
   ],
   "source": [
    "var('h')"
   ]
  },
  {
   "cell_type": "code",
   "execution_count": 48,
   "id": "distinct-beauty",
   "metadata": {},
   "outputs": [],
   "source": [
    "Qn.<n> = PolynomialRing(QQ)"
   ]
  },
  {
   "cell_type": "code",
   "execution_count": 49,
   "id": "fatty-therapy",
   "metadata": {},
   "outputs": [],
   "source": [
    "Qh.<h> = PolynomialRing(QQ)"
   ]
  },
  {
   "cell_type": "code",
   "execution_count": 50,
   "id": "first-phone",
   "metadata": {},
   "outputs": [],
   "source": [
    "Qhn.<n> = PolynomialRing(Qh)"
   ]
  },
  {
   "cell_type": "code",
   "execution_count": 51,
   "id": "traditional-westminster",
   "metadata": {},
   "outputs": [],
   "source": [
    "#### t = binomial(2*n,n)"
   ]
  },
  {
   "cell_type": "code",
   "execution_count": 52,
   "id": "coordinate-allergy",
   "metadata": {},
   "outputs": [],
   "source": [
    "#### r = t(n+1)/t(n)"
   ]
  },
  {
   "cell_type": "markdown",
   "id": "supposed-level",
   "metadata": {},
   "source": [
    "### On crée f et g à partir de r"
   ]
  },
  {
   "cell_type": "code",
   "execution_count": 53,
   "id": "sonic-purpose",
   "metadata": {},
   "outputs": [],
   "source": [
    "def G1(t):\n",
    "    r=t(n+1)/t(n)"
   ]
  },
  {
   "cell_type": "code",
   "execution_count": 54,
   "id": "continent-tanzania",
   "metadata": {},
   "outputs": [],
   "source": [
    "def G2(r) :\n",
    "    f = r.nominator()\n",
    "    g = r.denominator()\n",
    "    recG2(f,g)"
   ]
  },
  {
   "cell_type": "code",
   "execution_count": 149,
   "id": "latin-training",
   "metadata": {},
   "outputs": [],
   "source": [
    "def recG2(f,g) :\n",
    "    f=Qhn(f)\n",
    "    g=Qhn(g)\n",
    "    c=1\n",
    "    RacinesEntieres=[0]\n",
    "    while (RacinesEntieres!= []) :\n",
    "        R=f.resultant(g(n+h))\n",
    "        V=R.roots()\n",
    "        RacinesRes=[v[0] for v in V]\n",
    "        RacinesEntieres = []\n",
    "        for i in RacinesRes :\n",
    "            if (i.is_integer())&(i>=0) :\n",
    "                RacinesEntieres.append(i)\n",
    "        if (len(RacinesEntieres) == 0) :\n",
    "                return (f,g,c)\n",
    "        else :\n",
    "                p = min(RacinesEntieres)\n",
    "                u = gcd(f,g(n+p))\n",
    "                f = f // u\n",
    "                g = g // u(n-p)\n",
    "                c = c * prod([u(n-i) for i in range(1,p+1)])\n",
    "    return (f,g,c)"
   ]
  },
  {
   "cell_type": "code",
   "execution_count": 150,
   "id": "colored-mustang",
   "metadata": {},
   "outputs": [],
   "source": [
    "f = n+3"
   ]
  },
  {
   "cell_type": "code",
   "execution_count": 151,
   "id": "built-territory",
   "metadata": {},
   "outputs": [],
   "source": [
    "g = n*(n+1)"
   ]
  },
  {
   "cell_type": "code",
   "execution_count": 152,
   "id": "speaking-arbor",
   "metadata": {},
   "outputs": [],
   "source": [
    "(a,b,c)=recG2(f,g)"
   ]
  },
  {
   "cell_type": "code",
   "execution_count": 154,
   "id": "dying-quest",
   "metadata": {},
   "outputs": [
    {
     "data": {
      "text/plain": [
       "n^2 + 3*n + 2"
      ]
     },
     "execution_count": 154,
     "metadata": {},
     "output_type": "execute_result"
    }
   ],
   "source": [
    "c"
   ]
  },
  {
   "cell_type": "code",
   "execution_count": 155,
   "id": "disabled-drain",
   "metadata": {},
   "outputs": [
    {
     "data": {
      "text/plain": [
       "2"
      ]
     },
     "execution_count": 155,
     "metadata": {},
     "output_type": "execute_result"
    }
   ],
   "source": [
    "c.degree()"
   ]
  },
  {
   "cell_type": "code",
   "execution_count": 156,
   "id": "seasonal-christian",
   "metadata": {},
   "outputs": [],
   "source": [
    "def leadCoeff(P):\n",
    "    m = P.coefficients()\n",
    "    ncoeffs = len(m)\n",
    "    return m[ncoeffs - 1]"
   ]
  },
  {
   "cell_type": "code",
   "execution_count": 157,
   "id": "million-grove",
   "metadata": {},
   "outputs": [],
   "source": [
    "def secCoeff(P):\n",
    "    m = P.coefficients()\n",
    "    ncoeffs = len(m)\n",
    "    return m[ncoeffs-2]"
   ]
  },
  {
   "cell_type": "code",
   "execution_count": 158,
   "id": "occupational-admission",
   "metadata": {},
   "outputs": [],
   "source": [
    "def secDeg(P) : \n",
    "    return (P-leadCoeff(P)*n**P.degree()).degree()"
   ]
  },
  {
   "cell_type": "code",
   "execution_count": 164,
   "id": "norwegian-imperial",
   "metadata": {},
   "outputs": [],
   "source": [
    "def G3(a,b,c) :\n",
    "    # Cas 1\n",
    "    if (a.degree() != b.degree() or (leadCoeff(a) != leadCoef(b))) :\n",
    "        d = c.degree() - max(a.degree(),b.degree())\n",
    "        return d\n",
    "    # Cas 2\n",
    "    elif ((a.degree() == b.degree()) and (leadCoeff(a) == leadCoeff(b))) :\n",
    "    # Cas 2a\n",
    "        if (secDeg(a) - secDeg(b)) :\n",
    "            d = c.degree() - a.degree() + 1\n",
    "            return d\n",
    "        else :\n",
    "            l = a.leadCoeff()\n",
    "            A = a.secCoeff()\n",
    "            B = b.secCoeff()\n",
    "            d = (B-A)/l\n",
    "            return d"
   ]
  },
  {
   "cell_type": "code",
   "execution_count": 165,
   "id": "located-basics",
   "metadata": {},
   "outputs": [
    {
     "data": {
      "text/plain": [
       "1"
      ]
     },
     "execution_count": 165,
     "metadata": {},
     "output_type": "execute_result"
    }
   ],
   "source": [
    "G3(a,b,c)"
   ]
  },
  {
   "cell_type": "code",
   "execution_count": 172,
   "id": "fantastic-functionality",
   "metadata": {},
   "outputs": [],
   "source": [
    "t = binomial(n,n)"
   ]
  },
  {
   "cell_type": "markdown",
   "id": "brave-encounter",
   "metadata": {},
   "source": [
    "###  S'il est non nul, alors on obtient directement les polynômes suivants :\n",
    "### a(n) = f(n) / b(n) = g(n) / c(n) = 1\n",
    "### Et on termine le Pas 2. "
   ]
  },
  {
   "cell_type": "markdown",
   "id": "smooth-spare",
   "metadata": {},
   "source": [
    "### Sinon, on doit factoriser f et g par un facteur commun"
   ]
  },
  {
   "cell_type": "markdown",
   "id": "soviet-diabetes",
   "metadata": {},
   "source": [
    "### On commence par regarder les racines du résultant"
   ]
  },
  {
   "cell_type": "markdown",
   "id": "daily-mason",
   "metadata": {},
   "source": [
    "### On cherche un h tel que le résultant s'annule\n",
    "### S'il ne s'annule pas en h-<>N, alors on ne peut pas trouver.\n",
    "### On teste pour toutes les racines appartenant à N du resultant"
   ]
  },
  {
   "cell_type": "markdown",
   "id": "studied-costume",
   "metadata": {},
   "source": [
    "### On à desormais une liste RacinesN qui correspondant à la la liste des racines du résultant dans N "
   ]
  },
  {
   "cell_type": "markdown",
   "id": "environmental-butterfly",
   "metadata": {},
   "source": [
    "### Admettons pour la 1ère racine de la liste RacinesN\n"
   ]
  },
  {
   "cell_type": "code",
   "execution_count": 36,
   "id": "welcome-compact",
   "metadata": {},
   "outputs": [],
   "source": [
    "h=RacinesN[0]"
   ]
  },
  {
   "cell_type": "code",
   "execution_count": 37,
   "id": "surrounded-tobacco",
   "metadata": {},
   "outputs": [],
   "source": [
    "u=gcd(f,g(n+h))"
   ]
  },
  {
   "cell_type": "code",
   "execution_count": null,
   "id": "invisible-diagnosis",
   "metadata": {},
   "outputs": [],
   "source": []
  }
 ],
 "metadata": {
  "kernelspec": {
   "display_name": "SageMath 9.2",
   "language": "sage",
   "name": "sagemath"
  },
  "language_info": {
   "codemirror_mode": {
    "name": "ipython",
    "version": 3
   },
   "file_extension": ".py",
   "mimetype": "text/x-python",
   "name": "python",
   "nbconvert_exporter": "python",
   "pygments_lexer": "ipython3",
   "version": "3.7.9"
  }
 },
 "nbformat": 4,
 "nbformat_minor": 5
}
